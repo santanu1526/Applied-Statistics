{
 "cells": [
  {
   "cell_type": "code",
   "execution_count": 1,
   "id": "c1aed482-fccf-4fc2-a079-b4563f9b8522",
   "metadata": {},
   "outputs": [
    {
     "name": "stdout",
     "output_type": "stream",
     "text": [
      "[1 2 3]\n",
      "(3,)\n",
      "[4, 5, 6, 7]\n",
      "<class 'list'>\n",
      "<class 'numpy.ndarray'>\n",
      "1 2 3\n",
      "[5 2 3]\n"
     ]
    }
   ],
   "source": [
    "import numpy as np \n",
    "a=np.array([1,2,3])\n",
    "b=[4,5,6,7]\n",
    "print(a)\n",
    "print(a.shape)\n",
    "print(b)\n",
    "print(type(b))\n",
    "print(type(a))\n",
    "print(a[0],a[1],a[2])\n",
    "a[0] = 5\n",
    "print(a)"
   ]
  },
  {
   "cell_type": "code",
   "execution_count": 2,
   "id": "535ff685-a4f9-4fd2-bd85-ef64d02e8bdf",
   "metadata": {},
   "outputs": [
    {
     "name": "stdout",
     "output_type": "stream",
     "text": [
      "(2, 3)\n",
      "1 4 2\n"
     ]
    }
   ],
   "source": [
    "b=np.array([[1,2,3],[4,5,6]])\n",
    "print(b.shape)\n",
    "print(b[0,0] , b[1,0] , b[0,1])"
   ]
  },
  {
   "cell_type": "code",
   "execution_count": 3,
   "id": "57cac110-854f-4f7a-aa15-bc367428a58c",
   "metadata": {},
   "outputs": [
    {
     "name": "stdout",
     "output_type": "stream",
     "text": [
      "[[0. 0.]\n",
      " [0. 0.]]\n"
     ]
    }
   ],
   "source": [
    "a=np.zeros((2,2))\n",
    "print(a)"
   ]
  },
  {
   "cell_type": "code",
   "execution_count": 4,
   "id": "eaa328de-cf74-4f65-935c-2d7836c51d9b",
   "metadata": {},
   "outputs": [
    {
     "name": "stdout",
     "output_type": "stream",
     "text": [
      "[[1. 1.]]\n"
     ]
    }
   ],
   "source": [
    "a=np.ones((1,2))\n",
    "print(a)"
   ]
  },
  {
   "cell_type": "code",
   "execution_count": 5,
   "id": "bbd5d6ef-e601-4e1b-8ef3-fdf4b349ea29",
   "metadata": {},
   "outputs": [
    {
     "name": "stdout",
     "output_type": "stream",
     "text": [
      "[[7 7]\n",
      " [7 7]]\n"
     ]
    }
   ],
   "source": [
    "c=np.full((2,2),7)\n",
    "print(c)"
   ]
  },
  {
   "cell_type": "code",
   "execution_count": 6,
   "id": "c1652715-86e0-4402-8de1-ba335173f8d1",
   "metadata": {},
   "outputs": [
    {
     "name": "stdout",
     "output_type": "stream",
     "text": [
      "[[1. 0.]\n",
      " [0. 1.]]\n"
     ]
    }
   ],
   "source": [
    "#create a 2*2 identity matrix\n",
    "d=np.eye(2)\n",
    "print(d)"
   ]
  },
  {
   "cell_type": "code",
   "execution_count": 7,
   "id": "6624cec9-c371-4d97-be6b-c9cc6d4d82c0",
   "metadata": {},
   "outputs": [
    {
     "name": "stdout",
     "output_type": "stream",
     "text": [
      "[[0.18030931 0.46643909]\n",
      " [0.3766537  0.74042499]]\n"
     ]
    }
   ],
   "source": [
    "# Create an array with random values\n",
    "e=np.random.random((2,2))\n",
    "print(e)"
   ]
  },
  {
   "cell_type": "code",
   "execution_count": 8,
   "id": "4dfa6a30-5757-4a75-87ea-82e45e38bd2d",
   "metadata": {},
   "outputs": [
    {
     "name": "stdout",
     "output_type": "stream",
     "text": [
      "[0 0]\n"
     ]
    }
   ],
   "source": [
    "e=np.random.randint((2,2))\n",
    "print(e)"
   ]
  },
  {
   "cell_type": "code",
   "execution_count": 9,
   "id": "0a15dd91-5a5a-437b-b073-7fb753125b7e",
   "metadata": {},
   "outputs": [
    {
     "name": "stdout",
     "output_type": "stream",
     "text": [
      "[0.         0.55555556 1.11111111 1.66666667 2.22222222 2.77777778\n",
      " 3.33333333 3.88888889 4.44444444 5.        ]\n"
     ]
    }
   ],
   "source": [
    "print(np.linspace(0,5,10))\n"
   ]
  },
  {
   "cell_type": "code",
   "execution_count": 10,
   "id": "f7ca7bee-3f89-4c31-b720-1a9583a9edc2",
   "metadata": {},
   "outputs": [
    {
     "data": {
      "text/plain": [
       "array([2.  , 2.25, 2.5 , 2.75, 3.  ])"
      ]
     },
     "execution_count": 10,
     "metadata": {},
     "output_type": "execute_result"
    }
   ],
   "source": [
    "import array as arr\n",
    "np.linspace(2.0,3.0,num=5)\n",
    "\n",
    "np.linspace(2.0,3.0,num=5,endpoint=False)\n",
    "\n",
    "np.linspace(2.0,3.0,num=5,endpoint=True)\n"
   ]
  },
  {
   "cell_type": "code",
   "execution_count": 11,
   "id": "21386861-8bdf-41d2-8533-65d9b203674a",
   "metadata": {},
   "outputs": [
    {
     "name": "stdout",
     "output_type": "stream",
     "text": [
      "[[ 1  2  3  4]\n",
      " [ 5  6  7  8]\n",
      " [ 9 10 11 12]]\n",
      "[[2 3]\n",
      " [6 7]]\n",
      "[[2]\n",
      " [6]]\n",
      "[[ 9 10]]\n",
      "[[2 3 4]\n",
      " [6 7 8]]\n",
      "[[7]]\n",
      "[]\n"
     ]
    }
   ],
   "source": [
    "b=np.array([[1,2,3,4],[5,6,7,8],[9,10,11,12]])\n",
    "print(b[:,:])\n",
    "print(b[:2,1:3])\n",
    "print(b[0:2,1:2])\n",
    "print(b[2:3,0:2])\n",
    "print(b[:2,1:])\n",
    "print(b[-2:-1,-2:-1])\n",
    "print(b[-2:1,1:3])"
   ]
  },
  {
   "cell_type": "code",
   "execution_count": 12,
   "id": "f4f255be-787f-45f3-a175-1a57a5a49a0a",
   "metadata": {},
   "outputs": [
    {
     "name": "stdout",
     "output_type": "stream",
     "text": [
      "[1 4 5]\n",
      "1 4 5\n",
      "1 4\n"
     ]
    }
   ],
   "source": [
    "b=np.array([[1,2],[3,4],[5,6]])\n",
    "print(b[[0,1,2],[0,1,0]])\n",
    "print(b[0,0] , b[1,1] , b[2,0])\n",
    "print(b[0,0] , b[1,1])"
   ]
  },
  {
   "cell_type": "code",
   "execution_count": 13,
   "id": "25bab73a-8a29-4c2b-88d6-471d0fe93f9b",
   "metadata": {},
   "outputs": [
    {
     "name": "stdout",
     "output_type": "stream",
     "text": [
      "[1 7 9]\n",
      "[[11  2  3  4]\n",
      " [ 5  6 17  8]\n",
      " [19 10 11 12]]\n"
     ]
    }
   ],
   "source": [
    "a = np.array([[1, 2, 3, 4], \n",
    "              [5, 6, 7, 8], \n",
    "              [9, 10, 11, 12]])\n",
    "\n",
    "# Define array 'b'\n",
    "b = np.array([0, 2, 0])\n",
    "\n",
    "print(a[np.arange(3), b])\n",
    "a[np.arange(3),b]+=10\n",
    "print(a)"
   ]
  },
  {
   "cell_type": "code",
   "execution_count": 14,
   "id": "59b11b27-2476-45a3-98a3-faad9aebca82",
   "metadata": {},
   "outputs": [
    {
     "name": "stdout",
     "output_type": "stream",
     "text": [
      "[[False False]\n",
      " [ True  True]\n",
      " [ True  True]]\n"
     ]
    }
   ],
   "source": [
    "b=np.array([[1,2],[3,4],[5,6]])\n",
    "bool_idx = (b>2)\n",
    "print(bool_idx)"
   ]
  },
  {
   "cell_type": "code",
   "execution_count": 34,
   "id": "6cdc376f-68de-491a-95e5-3bc811b1a0fa",
   "metadata": {},
   "outputs": [
    {
     "name": "stdout",
     "output_type": "stream",
     "text": [
      "[ 0  1  2  3  4  5  6  7  8  9 10 11 12 13 14 15]\n",
      "[[ 0  1  2  3  4  5  6  7]\n",
      " [ 8  9 10 11 12 13 14 15]]\n"
     ]
    }
   ],
   "source": [
    "arr=np.arange(16)\n",
    "print(arr)\n",
    "a=arr.reshape(2,8)\n",
    "print(a)"
   ]
  },
  {
   "cell_type": "code",
   "execution_count": null,
   "id": "e1bf18b6-3a7d-42a7-ae1e-6037f4fcf4a8",
   "metadata": {},
   "outputs": [],
   "source": []
  }
 ],
 "metadata": {
  "kernelspec": {
   "display_name": "Python 3 (ipykernel)",
   "language": "python",
   "name": "python3"
  },
  "language_info": {
   "codemirror_mode": {
    "name": "ipython",
    "version": 3
   },
   "file_extension": ".py",
   "mimetype": "text/x-python",
   "name": "python",
   "nbconvert_exporter": "python",
   "pygments_lexer": "ipython3",
   "version": "3.11.4"
  }
 },
 "nbformat": 4,
 "nbformat_minor": 5
}
